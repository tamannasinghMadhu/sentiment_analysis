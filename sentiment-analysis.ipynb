{
 "cells": [
  {
   "cell_type": "code",
   "execution_count": 1,
   "id": "c5b8154b",
   "metadata": {
    "_cell_guid": "b1076dfc-b9ad-4769-8c92-a6c4dae69d19",
    "_uuid": "8f2839f25d086af736a60e9eeb907d3b93b6e0e5",
    "execution": {
     "iopub.execute_input": "2025-05-21T10:31:03.965327Z",
     "iopub.status.busy": "2025-05-21T10:31:03.964992Z",
     "iopub.status.idle": "2025-05-21T10:31:06.063931Z",
     "shell.execute_reply": "2025-05-21T10:31:06.062861Z"
    },
    "papermill": {
     "duration": 2.104856,
     "end_time": "2025-05-21T10:31:06.065624",
     "exception": false,
     "start_time": "2025-05-21T10:31:03.960768",
     "status": "completed"
    },
    "tags": []
   },
   "outputs": [
    {
     "name": "stdout",
     "output_type": "stream",
     "text": [
      "/kaggle/input/imdb-dataset-of-50k-movie-reviews/IMDB Dataset.csv\n"
     ]
    }
   ],
   "source": [
    "# This Python 3 environment comes with many helpful analytics libraries installed\n",
    "# It is defined by the kaggle/python Docker image: https://github.com/kaggle/docker-python\n",
    "# For example, here's several helpful packages to load\n",
    "\n",
    "import numpy as np # linear algebra\n",
    "import pandas as pd # data processing, CSV file I/O (e.g. pd.read_csv)\n",
    "\n",
    "# Input data files are available in the read-only \"../input/\" directory\n",
    "# For example, running this (by clicking run or pressing Shift+Enter) will list all files under the input directory\n",
    "\n",
    "import os\n",
    "for dirname, _, filenames in os.walk('/kaggle/input'):\n",
    "    for filename in filenames:\n",
    "        print(os.path.join(dirname, filename))\n",
    "\n",
    "# You can write up to 20GB to the current directory (/kaggle/working/) that gets preserved as output when you create a version using \"Save & Run All\" \n",
    "# You can also write temporary files to /kaggle/temp/, but they won't be saved outside of the current session"
   ]
  },
  {
   "cell_type": "code",
   "execution_count": 2,
   "id": "0090228c",
   "metadata": {
    "execution": {
     "iopub.execute_input": "2025-05-21T10:31:06.072446Z",
     "iopub.status.busy": "2025-05-21T10:31:06.071987Z",
     "iopub.status.idle": "2025-05-21T10:31:08.601079Z",
     "shell.execute_reply": "2025-05-21T10:31:08.599994Z"
    },
    "papermill": {
     "duration": 2.534295,
     "end_time": "2025-05-21T10:31:08.602879",
     "exception": false,
     "start_time": "2025-05-21T10:31:06.068584",
     "status": "completed"
    },
    "tags": []
   },
   "outputs": [],
   "source": [
    "# basic data handling and regular expressions\n",
    "import pandas as pd\n",
    "import re\n",
    "\n",
    "# visualizations\n",
    "import matplotlib.pyplot as plt\n",
    "import seaborn as sns  # using seaborn for better-looking plots\n",
    "\n",
    "# scikit-learn tools\n",
    "from sklearn.model_selection import train_test_split\n",
    "from sklearn.naive_bayes import MultinomialNB  # trying this simple classifier for text\n",
    "from sklearn.metrics import classification_report  # for evaluating predictions\n",
    "from sklearn.metrics import confusion_matrix  # shows false positives/negatives\n",
    "\n",
    "# TF-IDF and stopwords\n",
    "from sklearn.feature_extraction.text import TfidfVectorizer\n",
    "from sklearn.feature_extraction import text  # gives access to predefined stopwords\n",
    "from sklearn.feature_extraction.text import ENGLISH_STOP_WORDS  # default stopword set"
   ]
  },
  {
   "cell_type": "code",
   "execution_count": 3,
   "id": "fddc011a",
   "metadata": {
    "execution": {
     "iopub.execute_input": "2025-05-21T10:31:08.609830Z",
     "iopub.status.busy": "2025-05-21T10:31:08.608726Z",
     "iopub.status.idle": "2025-05-21T10:31:10.157856Z",
     "shell.execute_reply": "2025-05-21T10:31:10.156242Z"
    },
    "papermill": {
     "duration": 1.554412,
     "end_time": "2025-05-21T10:31:10.159758",
     "exception": false,
     "start_time": "2025-05-21T10:31:08.605346",
     "status": "completed"
    },
    "tags": []
   },
   "outputs": [
    {
     "name": "stdout",
     "output_type": "stream",
     "text": [
      "Dataset loaded successfully. Here's a quick look:\n"
     ]
    },
    {
     "data": {
      "text/html": [
       "<div>\n",
       "<style scoped>\n",
       "    .dataframe tbody tr th:only-of-type {\n",
       "        vertical-align: middle;\n",
       "    }\n",
       "\n",
       "    .dataframe tbody tr th {\n",
       "        vertical-align: top;\n",
       "    }\n",
       "\n",
       "    .dataframe thead th {\n",
       "        text-align: right;\n",
       "    }\n",
       "</style>\n",
       "<table border=\"1\" class=\"dataframe\">\n",
       "  <thead>\n",
       "    <tr style=\"text-align: right;\">\n",
       "      <th></th>\n",
       "      <th>review</th>\n",
       "      <th>sentiment</th>\n",
       "    </tr>\n",
       "  </thead>\n",
       "  <tbody>\n",
       "    <tr>\n",
       "      <th>0</th>\n",
       "      <td>One of the other reviewers has mentioned that ...</td>\n",
       "      <td>positive</td>\n",
       "    </tr>\n",
       "    <tr>\n",
       "      <th>1</th>\n",
       "      <td>A wonderful little production. &lt;br /&gt;&lt;br /&gt;The...</td>\n",
       "      <td>positive</td>\n",
       "    </tr>\n",
       "    <tr>\n",
       "      <th>2</th>\n",
       "      <td>I thought this was a wonderful way to spend ti...</td>\n",
       "      <td>positive</td>\n",
       "    </tr>\n",
       "    <tr>\n",
       "      <th>3</th>\n",
       "      <td>Basically there's a family where a little boy ...</td>\n",
       "      <td>negative</td>\n",
       "    </tr>\n",
       "    <tr>\n",
       "      <th>4</th>\n",
       "      <td>Petter Mattei's \"Love in the Time of Money\" is...</td>\n",
       "      <td>positive</td>\n",
       "    </tr>\n",
       "  </tbody>\n",
       "</table>\n",
       "</div>"
      ],
      "text/plain": [
       "                                              review sentiment\n",
       "0  One of the other reviewers has mentioned that ...  positive\n",
       "1  A wonderful little production. <br /><br />The...  positive\n",
       "2  I thought this was a wonderful way to spend ti...  positive\n",
       "3  Basically there's a family where a little boy ...  negative\n",
       "4  Petter Mattei's \"Love in the Time of Money\" is...  positive"
      ]
     },
     "execution_count": 3,
     "metadata": {},
     "output_type": "execute_result"
    }
   ],
   "source": [
    "# load dataset\n",
    "IMDB_reviews_df = pd.read_csv('/kaggle/input/imdb-dataset-of-50k-movie-reviews/IMDB Dataset.csv')\n",
    "print(\"Dataset loaded successfully. Here's a quick look:\")\n",
    "IMDB_reviews_df.head()"
   ]
  },
  {
   "cell_type": "code",
   "execution_count": 4,
   "id": "96c97684",
   "metadata": {
    "execution": {
     "iopub.execute_input": "2025-05-21T10:31:10.166614Z",
     "iopub.status.busy": "2025-05-21T10:31:10.166196Z",
     "iopub.status.idle": "2025-05-21T10:31:13.637612Z",
     "shell.execute_reply": "2025-05-21T10:31:13.636318Z"
    },
    "papermill": {
     "duration": 3.476894,
     "end_time": "2025-05-21T10:31:13.639489",
     "exception": false,
     "start_time": "2025-05-21T10:31:10.162595",
     "status": "completed"
    },
    "tags": []
   },
   "outputs": [
    {
     "name": "stdout",
     "output_type": "stream",
     "text": [
      "Cleaned text added to the dataset. Here's how it looks like now:\n"
     ]
    },
    {
     "data": {
      "text/html": [
       "<div>\n",
       "<style scoped>\n",
       "    .dataframe tbody tr th:only-of-type {\n",
       "        vertical-align: middle;\n",
       "    }\n",
       "\n",
       "    .dataframe tbody tr th {\n",
       "        vertical-align: top;\n",
       "    }\n",
       "\n",
       "    .dataframe thead th {\n",
       "        text-align: right;\n",
       "    }\n",
       "</style>\n",
       "<table border=\"1\" class=\"dataframe\">\n",
       "  <thead>\n",
       "    <tr style=\"text-align: right;\">\n",
       "      <th></th>\n",
       "      <th>review</th>\n",
       "      <th>cleaned_review</th>\n",
       "    </tr>\n",
       "  </thead>\n",
       "  <tbody>\n",
       "    <tr>\n",
       "      <th>0</th>\n",
       "      <td>One of the other reviewers has mentioned that ...</td>\n",
       "      <td>reviewers mentioned watching just oz episode y...</td>\n",
       "    </tr>\n",
       "    <tr>\n",
       "      <th>1</th>\n",
       "      <td>A wonderful little production. &lt;br /&gt;&lt;br /&gt;The...</td>\n",
       "      <td>wonderful little production br br filming tech...</td>\n",
       "    </tr>\n",
       "    <tr>\n",
       "      <th>2</th>\n",
       "      <td>I thought this was a wonderful way to spend ti...</td>\n",
       "      <td>thought wonderful way spend time hot summer we...</td>\n",
       "    </tr>\n",
       "    <tr>\n",
       "      <th>3</th>\n",
       "      <td>Basically there's a family where a little boy ...</td>\n",
       "      <td>basically theres family little boy jake thinks...</td>\n",
       "    </tr>\n",
       "    <tr>\n",
       "      <th>4</th>\n",
       "      <td>Petter Mattei's \"Love in the Time of Money\" is...</td>\n",
       "      <td>petter matteis love time money visually stunni...</td>\n",
       "    </tr>\n",
       "  </tbody>\n",
       "</table>\n",
       "</div>"
      ],
      "text/plain": [
       "                                              review  \\\n",
       "0  One of the other reviewers has mentioned that ...   \n",
       "1  A wonderful little production. <br /><br />The...   \n",
       "2  I thought this was a wonderful way to spend ti...   \n",
       "3  Basically there's a family where a little boy ...   \n",
       "4  Petter Mattei's \"Love in the Time of Money\" is...   \n",
       "\n",
       "                                      cleaned_review  \n",
       "0  reviewers mentioned watching just oz episode y...  \n",
       "1  wonderful little production br br filming tech...  \n",
       "2  thought wonderful way spend time hot summer we...  \n",
       "3  basically theres family little boy jake thinks...  \n",
       "4  petter matteis love time money visually stunni...  "
      ]
     },
     "execution_count": 4,
     "metadata": {},
     "output_type": "execute_result"
    }
   ],
   "source": [
    "# basic function to clean up the review text\n",
    "def clean_text(review):\n",
    "    # convert everything to lowercase so 'Great' and 'great' are same\n",
    "    review = review.lower()\n",
    "    \n",
    "    # removes punctuation (keeps only words and spaces)\n",
    "    review = re.sub(r'[^a-z\\s]', '', review)\n",
    "    \n",
    "    # split into words\n",
    "    words = review.split()\n",
    "    \n",
    "    # removes stopwords like 'the', 'is', 'was', etc.\n",
    "    filtered_words = [word for word in words if word not in ENGLISH_STOP_WORDS]\n",
    "    \n",
    "    # join the words back into a cleaned sentence\n",
    "    return ' '.join(filtered_words)\n",
    "\n",
    "IMDB_reviews_df['cleaned_review'] = IMDB_reviews_df['review'].apply(clean_text)\n",
    "print(\"Cleaned text added to the dataset. Here's how it looks like now:\")\n",
    "IMDB_reviews_df[['review', 'cleaned_review']].head()"
   ]
  },
  {
   "cell_type": "code",
   "execution_count": 5,
   "id": "c3c4c022",
   "metadata": {
    "execution": {
     "iopub.execute_input": "2025-05-21T10:31:13.647205Z",
     "iopub.status.busy": "2025-05-21T10:31:13.646896Z",
     "iopub.status.idle": "2025-05-21T10:31:19.020412Z",
     "shell.execute_reply": "2025-05-21T10:31:19.019426Z"
    },
    "papermill": {
     "duration": 5.379054,
     "end_time": "2025-05-21T10:31:19.022279",
     "exception": false,
     "start_time": "2025-05-21T10:31:13.643225",
     "status": "completed"
    },
    "tags": []
   },
   "outputs": [],
   "source": [
    "# converting cleaned reviews into numerical features using TF-IDF\n",
    "tfidf_vectorizer = TfidfVectorizer(max_features=5000)\n",
    "\n",
    "#transforms the text data into a matrix of TF-IDF scores\n",
    "tfidf_matrix = tfidf_vectorizer.fit_transform(IMDB_reviews_df['cleaned_review'])\n",
    "\n",
    "X = tfidf_matrix\n",
    "y = IMDB_reviews_df['sentiment']"
   ]
  },
  {
   "cell_type": "code",
   "execution_count": 6,
   "id": "4110b17f",
   "metadata": {
    "execution": {
     "iopub.execute_input": "2025-05-21T10:31:19.029592Z",
     "iopub.status.busy": "2025-05-21T10:31:19.029276Z",
     "iopub.status.idle": "2025-05-21T10:31:19.057025Z",
     "shell.execute_reply": "2025-05-21T10:31:19.055858Z"
    },
    "papermill": {
     "duration": 0.033678,
     "end_time": "2025-05-21T10:31:19.058920",
     "exception": false,
     "start_time": "2025-05-21T10:31:19.025242",
     "status": "completed"
    },
    "tags": []
   },
   "outputs": [],
   "source": [
    "# Split the data\n",
    "X_train, X_test, y_train, y_test = train_test_split(X, y, test_size=0.2, random_state=42)"
   ]
  },
  {
   "cell_type": "code",
   "execution_count": 7,
   "id": "e18d4eb2",
   "metadata": {
    "execution": {
     "iopub.execute_input": "2025-05-21T10:31:19.066287Z",
     "iopub.status.busy": "2025-05-21T10:31:19.065464Z",
     "iopub.status.idle": "2025-05-21T10:31:19.213484Z",
     "shell.execute_reply": "2025-05-21T10:31:19.212461Z"
    },
    "papermill": {
     "duration": 0.153615,
     "end_time": "2025-05-21T10:31:19.215379",
     "exception": false,
     "start_time": "2025-05-21T10:31:19.061764",
     "status": "completed"
    },
    "tags": []
   },
   "outputs": [],
   "source": [
    "# Training the Model\n",
    "model = MultinomialNB()\n",
    "model.fit(X_train, y_train)\n",
    "\n",
    "y_pred = model.predict(X_test)"
   ]
  },
  {
   "cell_type": "code",
   "execution_count": 8,
   "id": "9c6fb79d",
   "metadata": {
    "execution": {
     "iopub.execute_input": "2025-05-21T10:31:19.223684Z",
     "iopub.status.busy": "2025-05-21T10:31:19.223362Z",
     "iopub.status.idle": "2025-05-21T10:31:19.841816Z",
     "shell.execute_reply": "2025-05-21T10:31:19.840716Z"
    },
    "papermill": {
     "duration": 0.623762,
     "end_time": "2025-05-21T10:31:19.843484",
     "exception": false,
     "start_time": "2025-05-21T10:31:19.219722",
     "status": "completed"
    },
    "tags": []
   },
   "outputs": [
    {
     "name": "stdout",
     "output_type": "stream",
     "text": [
      "              precision    recall  f1-score   support\n",
      "\n",
      "    negative       0.85      0.85      0.85      4961\n",
      "    positive       0.85      0.85      0.85      5039\n",
      "\n",
      "    accuracy                           0.85     10000\n",
      "   macro avg       0.85      0.85      0.85     10000\n",
      "weighted avg       0.85      0.85      0.85     10000\n",
      "\n"
     ]
    },
    {
     "data": {
      "image/png": "[encoded data removed]",
      "text/plain": [
       "<Figure size 640x480 with 2 Axes>"
      ]
     },
     "metadata": {},
     "output_type": "display_data"
    }
   ],
   "source": [
    "# Evaluation\n",
    "print(classification_report(y_test, y_pred))\n",
    "\n",
    "# Plot confusion matrix\n",
    "cm = confusion_matrix(y_test, y_pred)\n",
    "sns.heatmap(cm, annot=True, fmt='d', cmap='Blues')\n",
    "plt.xlabel('Predicted')\n",
    "plt.ylabel('Actual')\n",
    "plt.title('Confusion Matrix')\n",
    "plt.show()"
   ]
  }
 ],
 "metadata": {
  "kaggle": {
   "accelerator": "none",
   "dataSources": [
    {
     "datasetId": 134715,
     "sourceId": 320111,
     "sourceType": "datasetVersion"
    }
   ],
   "dockerImageVersionId": 31012,
   "isGpuEnabled": false,
   "isInternetEnabled": false,
   "language": "python",
   "sourceType": "notebook"
  },
  "kernelspec": {
   "display_name": "Python 3",
   "language": "python",
   "name": "python3"
  },
  "language_info": {
   "codemirror_mode": {
    "name": "ipython",
    "version": 3
   },
   "file_extension": ".py",
   "mimetype": "text/x-python",
   "name": "python",
   "nbconvert_exporter": "python",
   "pygments_lexer": "ipython3",
   "version": "3.11.11"
  },
  "papermill": {
   "default_parameters": {},
   "duration": 22.548315,
   "end_time": "2025-05-21T10:31:20.668701",
   "environment_variables": {},
   "exception": null,
   "input_path": "__notebook__.ipynb",
   "output_path": "__notebook__.ipynb",
   "parameters": {},
   "start_time": "2025-05-21T10:30:58.120386",
   "version": "2.6.0"
  }
 },
 "nbformat": 4,
 "nbformat_minor": 5
}
